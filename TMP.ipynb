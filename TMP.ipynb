{
 "cells": [
  {
   "cell_type": "code",
   "execution_count": 59,
   "metadata": {},
   "outputs": [],
   "source": [
    "import pandas as pd\n",
    "data = pd.read_csv('hans.csv', usecols=[\"speech\", \"speech_date\"], low_memory = False)"
   ]
  },
  {
   "cell_type": "code",
   "execution_count": 60,
   "metadata": {},
   "outputs": [
    {
     "data": {
      "text/html": [
       "<div>\n",
       "<style scoped>\n",
       "    .dataframe tbody tr th:only-of-type {\n",
       "        vertical-align: middle;\n",
       "    }\n",
       "\n",
       "    .dataframe tbody tr th {\n",
       "        vertical-align: top;\n",
       "    }\n",
       "\n",
       "    .dataframe thead th {\n",
       "        text-align: right;\n",
       "    }\n",
       "</style>\n",
       "<table border=\"1\" class=\"dataframe\">\n",
       "  <thead>\n",
       "    <tr style=\"text-align: right;\">\n",
       "      <th></th>\n",
       "      <th>speech</th>\n",
       "      <th>speech_date</th>\n",
       "    </tr>\n",
       "  </thead>\n",
       "  <tbody>\n",
       "    <tr>\n",
       "      <th>0</th>\n",
       "      <td>Mr. Speaker-Elect, it is one of the happiest f...</td>\n",
       "      <td>1979-05-09</td>\n",
       "    </tr>\n",
       "    <tr>\n",
       "      <th>1</th>\n",
       "      <td>Mr. Speaker-Elect, it is my very great privile...</td>\n",
       "      <td>1979-05-09</td>\n",
       "    </tr>\n",
       "    <tr>\n",
       "      <th>2</th>\n",
       "      <td>On behalf of my right hon. and hon. Friends, M...</td>\n",
       "      <td>1979-05-09</td>\n",
       "    </tr>\n",
       "    <tr>\n",
       "      <th>3</th>\n",
       "      <td>I too, wish to congratulate you, Mr. Speaker-E...</td>\n",
       "      <td>1979-05-09</td>\n",
       "    </tr>\n",
       "    <tr>\n",
       "      <th>4</th>\n",
       "      <td>Sometimes, Mr. Speaker-Elect, the House alters...</td>\n",
       "      <td>1979-05-09</td>\n",
       "    </tr>\n",
       "  </tbody>\n",
       "</table>\n",
       "</div>"
      ],
      "text/plain": [
       "                                              speech speech_date\n",
       "0  Mr. Speaker-Elect, it is one of the happiest f...  1979-05-09\n",
       "1  Mr. Speaker-Elect, it is my very great privile...  1979-05-09\n",
       "2  On behalf of my right hon. and hon. Friends, M...  1979-05-09\n",
       "3  I too, wish to congratulate you, Mr. Speaker-E...  1979-05-09\n",
       "4  Sometimes, Mr. Speaker-Elect, the House alters...  1979-05-09"
      ]
     },
     "execution_count": 60,
     "metadata": {},
     "output_type": "execute_result"
    }
   ],
   "source": [
    "data.head()"
   ]
  },
  {
   "cell_type": "code",
   "execution_count": 61,
   "metadata": {},
   "outputs": [
    {
     "data": {
      "text/plain": [
       "(2286324, 2)"
      ]
     },
     "execution_count": 61,
     "metadata": {},
     "output_type": "execute_result"
    }
   ],
   "source": [
    "data.shape"
   ]
  },
  {
   "cell_type": "markdown",
   "metadata": {},
   "source": [
    "Anaphora (Level: Sentence and punctua)"
   ]
  },
  {
   "cell_type": "code",
   "execution_count": 157,
   "metadata": {},
   "outputs": [],
   "source": [
    "import spacy\n",
    "nlp = spacy.load(\"en\")\n",
    "sentences = list()\n",
    "\n",
    "tokens = nlp(data['speech'][0])\n",
    "\n",
    "for sent in tokens.sents:\n",
    "    sentences.append(sent.string.strip())"
   ]
  },
  {
   "cell_type": "code",
   "execution_count": 135,
   "metadata": {},
   "outputs": [],
   "source": [
    "first_sent = sentences[0] \n",
    "first_sent = first_sent.lower()\n",
    "first_sent = re.sub(r'[^\\w\\s]','',first_sent)\n",
    "last_sent = first_sent.split()\n",
    "anaphora = list()\n",
    "import re\n",
    "for sent in sentences[1:]:\n",
    "    sent = sent.lower()\n",
    "    sent = re.sub(r'[^\\w\\s]','',sent)\n",
    "    words = sent.split()\n",
    "    anaphora_record = list()\n",
    "    for i, j in zip(words, last_sent):\n",
    "        if i == j :\n",
    "            anaphora_record.append(i)\n",
    "        else:\n",
    "            break\n",
    "    if len(anaphora_record) > 0:\n",
    "        anaphora.append(anaphora_record)\n",
    "    last_sent = words;"
   ]
  },
  {
   "cell_type": "code",
   "execution_count": 207,
   "metadata": {},
   "outputs": [],
   "source": [
    "anaphora = list()\n",
    "for sent in sentences:\n",
    "    part = re.split('[,:;]', sent)\n",
    "    first_part = part[0] \n",
    "    first_part = first_part.lower()\n",
    "    first_part = re.sub(r'[^\\w\\s]','',first_part)\n",
    "    words = first_part.split()\n",
    "    words = list(filter(('and').__ne__, words))\n",
    "    words = list(filter(('').__ne__, words))\n",
    "    last_sent = words\n",
    "    for i in part[1:]:\n",
    "        i  = i.lower()\n",
    "        i = re.sub(r'[^\\w\\s]','',i)\n",
    "        words = i.split()\n",
    "        words = list(filter(('and').__ne__, words))\n",
    "        words = list(filter(('').__ne__, words))\n",
    "        anaphora_record = list()\n",
    "        for i, j in zip(words, last_sent):\n",
    "            if i == j :\n",
    "                anaphora_record.append(i)\n",
    "            else:\n",
    "                break\n",
    "        if len(anaphora_record) > 0:\n",
    "            anaphora.append(anaphora_record)\n",
    "        last_sent = words;\n",
    "        \n",
    "        \n",
    "            \n",
    "        \n",
    "    \n",
    "    "
   ]
  },
  {
   "cell_type": "code",
   "execution_count": 208,
   "metadata": {},
   "outputs": [
    {
     "name": "stdout",
     "output_type": "stream",
     "text": [
      "[['so', 'shall', 'they']]\n"
     ]
    }
   ],
   "source": [
    "print(anaphora)"
   ]
  },
  {
   "cell_type": "code",
   "execution_count": 174,
   "metadata": {},
   "outputs": [],
   "source": [
    "for i in range(len(punc_splitted)):\n",
    "    if punc_splitted[i][0] == ' ':\n",
    "        punc_splitted[i] = punc_splitted[i][1:]\n",
    "    punc_splitted[i].lower()"
   ]
  },
  {
   "cell_type": "code",
   "execution_count": 168,
   "metadata": {},
   "outputs": [
    {
     "name": "stdout",
     "output_type": "stream",
     "text": [
      "['Mr']\n",
      "['Speaker-Elect']\n",
      "['it', 'is', 'one', 'of', 'the', 'happiest', 'features', 'of', 'our', 'procedures', 'that']\n",
      "['after', 'the', 'passions', 'aroused', 'by', 'the', 'hustings']\n",
      "['our', 'first', 'parliamentary', 'duty', 'is', 'one', 'on', 'which', 'we', 'are', 'unanimous']\n",
      "['It', 'is', 'a', 'great', 'pleasure', 'and', 'privilege', 'to', 'offer']\n",
      "['on', 'behalf', 'of', 'my', 'right', 'hon']\n",
      "['and', 'hon']\n",
      "['Friends']\n",
      "['our', 'congratulations', 'to', 'you', 'on', 'your', 'election', 'as', 'Speaker']\n",
      "['My', 'right', 'hon']\n",
      "['and', 'learned', 'Friend', 'the', 'Member', 'for', 'Hertfordshire']\n",
      "['East', 'Sir', 'D']\n",
      "['Walker-Smith)', 'and', 'the', 'right', 'hon']\n",
      "['Member', 'for', 'Sunderland']\n",
      "['North', 'Mr']\n",
      "['Willey)']\n",
      "['who', 'have', 'proposed', 'and', 'seconded', 'the', 'motion']\n",
      "['have', 'already', 'said', 'much', 'that', 'most', 'of', 'us', 'would', 'have', 'wished', 'to', 'say', 'to', 'you', 'individually']\n",
      "['had', 'we', 'been', 'able', 'to', 'be', 'the', 'author', 'of', 'such', 'felicitous', 'phrases']\n",
      "['I', 'did']\n",
      "['however']\n",
      "['note', 'that', 'my', 'right', 'hon']\n",
      "['and', 'learned', 'Friend', 'referred', 'exclusively', 'to', '\"new', 'boys\"—a', 'mistake', 'that', 'you', 'did', 'not', 'make']\n",
      "['Mr']\n",
      "['Speaker-Elect']\n",
      "['But']\n",
      "['of', 'course']\n",
      "['being', 'a', 'lawyer']\n",
      "['my', 'right', 'hon']\n",
      "['and', 'learned', 'Friend', 'would', 'doubtless', 'refer', 'me', 'to', 'the', 'Interpretation', 'Act', '1889', 'and', 'point', 'out', 'that', '\"boy\"', 'embraced', '\"girl\"']\n",
      "['From', 'the', 'time', 'of', 'your', 'initial', 'election']\n",
      "['Mr']\n",
      "['Speaker-Elect']\n",
      "['we', 'always', 'knew', 'that', 'you', 'would', 'bring', 'great', 'distinction']\n",
      "['humanity', 'and', 'warmth', 'to', 'your', 'office']\n",
      "['and', 'you', 'have']\n",
      "['We', 'always', 'knew', 'that', 'your', 'unfailing']\n",
      "['patient', 'humour', 'would', 'heal', 'and', 'not', 'wound']\n",
      "['and', 'it', 'was', 'so']\n",
      "['We', 'always', 'thought', 'that', 'you', 'would', 'be', 'one', 'of', 'our', 'great', 'Speakers']\n",
      "['and', 'you', 'are']\n",
      "['For', 'some', '34', 'years']\n",
      "['you', 'have', 'been', 'steeped', 'in', 'the', 'ways', 'of', 'the', 'House']\n",
      "['fulfilling', 'many', 'roles', 'and', 'therefore', 'seeing', 'our', 'work', 'from', 'many', 'different', 'aspects']\n",
      "['I', 'well', 'remember']\n",
      "['Mr']\n",
      "['Speaker-Elect']\n",
      "['an', 'occasion', 'when', 'you', 'were', 'in', 'a', 'less', 'exalted', 'position—that', 'of', 'a', 'mere', 'Front', 'Bencher']\n",
      "['a', 'Minister', 'of', 'the', 'Crown—when', 'one', 'of', 'your', 'replies', 'to', 'questions', 'gave', 'rise', 'to', 'the', 'accusation', 'that', 'you', 'were', 'hedging']\n",
      "['Any', 'other', 'Minister', 'would', 'have', 'denied', 'such', 'an', 'outrageous', 'allegation', 'swiftly']\n",
      "['but', 'not', 'you']\n",
      "['Sir']\n",
      "['\"Of', 'course', 'I', 'am', 'hedging\"']\n",
      "['you', 'said']\n",
      "['\"and', 'so', 'would', 'the', 'hon']\n",
      "['Member', 'if', 'he', 'were', 'in', 'my', 'position\"']\n",
      "['Mr']\n",
      "['Speaker-Elect']\n",
      "['some', 'of', 'us', 'are', 'now', 'in', 'that', 'position']\n",
      "['and', 'we', 'are', 'grateful', 'to', 'you', 'for', 'that', 'precedent']\n",
      "['which']\n",
      "['like', 'so', 'many', 'others']\n",
      "['may', 'come', 'in', 'useful', 'in', 'the', 'future']\n",
      "['You', 'have', 'carried', 'the', 'reputation', 'of', 'our', 'House']\n",
      "['Mr']\n",
      "['Speaker-Elect']\n",
      "['to', 'wider', 'audiences', 'both', 'here', 'and', 'abroad']\n",
      "['At', 'home']\n",
      "['\"Order']\n",
      "['order\"—I', 'cannot', 'imitate', 'that', 'Welsh', 'accent—is', 'now', 'a', 'household', 'phrase']\n",
      "['You', 'represented', 'us', 'at', 'the', 'bicentennial', 'celebrations', 'in', 'the', 'United', 'States', 'and', 'presided', 'over', 'the', 'conference', 'of', 'Commonwealth', 'Speakers']\n",
      "['where', 'we', 'all', 'know', 'that', 'you', 'were', 'a', 'great', 'hit']\n",
      "['You', 'have', 'been', 'very', 'welcoming', 'and', 'generous', 'to', 'visiting', 'parliamentarians', 'and', 'guests']\n",
      "['as', 'well', 'as', 'to', 'hon']\n",
      "['Members', 'of', 'this', 'House']\n",
      "['On', 'those', 'occasions', 'you', 'usually', 'speak']\n",
      "['as', 'you', 'did', 'today', 'in', 'the', 'most', 'moving', 'tones']\n",
      "['of', 'this', 'Mother', 'of', 'Parliaments']\n",
      "['You', 'do', 'it']\n",
      "['Mr']\n",
      "['Speaker-Elect']\n",
      "['not', 'because', 'it', 'is', 'the', 'tradition']\n",
      "['nor', 'because', 'it', 'is', 'customary—although', 'tradition', 'and', 'customary', 'important—nor', 'even', 'because', 'it', 'is', 'expected', 'of', 'you']\n",
      "['though', 'it', 'is']\n",
      "['but', 'because', 'you', 'have', 'a', 'deep', 'and', 'abiding', 'belief', 'that', 'our', 'parliamentary', 'way', 'is', 'the', 'best', 'way', 'to', 'serve', 'a', 'free', 'people']\n",
      "['and', 'that', 'we', 'must', 'bequeath', 'it', 'as', 'a', 'heritage', 'to', 'those', 'who', 'come', 'after', 'us']\n",
      "['We', 'know']\n",
      "['too']\n",
      "['of', 'your', 'profound', 'faith', 'that', 'righteousness', 'exalteth', 'a', 'nation', 'and', 'the', 'strength', 'that', 'that', 'gives', 'you', 'in', 'difficult', 'days']\n",
      "['While', 'we', 'have', 'been', 'away']\n",
      "['a', 'new', 'crest', 'has', 'appeared', 'in', 'this', 'House', 'over', 'the', 'Archway']\n",
      "['It', 'is', 'the', 'crest', 'of', 'Airey', 'Neave']\n",
      "['We', 'should', 'like', 'to', 'thank', 'you', 'for', 'having', 'placed', 'it', 'there']\n",
      "['The', 'thought', 'was', 'so', 'typical', 'of', 'you', 'and', 'so', 'worthy', 'of', 'him']\n",
      "['Mr']\n",
      "['Speaker-Elect']\n",
      "['We', 'shall', 'continue']\n",
      "['Mr']\n",
      "['Speaker-Elect']\n",
      "['to', 'be', 'in', 'need', 'of', 'your', 'kindness']\n",
      "['wisdom', 'and', 'integrity']\n",
      "['As', 'Sir', 'Thomas', 'Browne', 'wrote', 'centuries', 'ago']\n",
      "['All', 'things', 'began', 'in', 'order']\n",
      "['so', 'shall', 'they', 'end']\n",
      "['and', 'so', 'shall', 'they', 'begin', 'again\"']\n",
      "['In', 'your', 'new', 'beginning']\n",
      "['we', 'salute', 'you', 'and', 'wish', 'you', 'happiness', 'and', 'satisfaction', 'in', 'carrying', 'out', 'the', 'duties', 'of', 'your', 'historic', 'office']\n",
      "[]\n"
     ]
    }
   ],
   "source": [
    "for i in punc_splitted:\n",
    "    words = i.split()\n",
    "    print(words)"
   ]
  },
  {
   "cell_type": "code",
   "execution_count": null,
   "metadata": {},
   "outputs": [],
   "source": []
  }
 ],
 "metadata": {
  "kernelspec": {
   "display_name": "Python 3",
   "language": "python",
   "name": "python3"
  },
  "language_info": {
   "codemirror_mode": {
    "name": "ipython",
    "version": 3
   },
   "file_extension": ".py",
   "mimetype": "text/x-python",
   "name": "python",
   "nbconvert_exporter": "python",
   "pygments_lexer": "ipython3",
   "version": "3.7.6"
  }
 },
 "nbformat": 4,
 "nbformat_minor": 4
}
