{
 "cells": [
  {
   "cell_type": "code",
   "execution_count": 59,
   "metadata": {},
   "outputs": [],
   "source": [
    "import pandas as pd\n",
    "data = pd.read_csv('hans.csv', usecols=[\"speech\", \"speech_date\"], low_memory = False)"
   ]
  },
  {
   "cell_type": "code",
   "execution_count": 60,
   "metadata": {},
   "outputs": [
    {
     "data": {
      "text/html": [
       "<div>\n",
       "<style scoped>\n",
       "    .dataframe tbody tr th:only-of-type {\n",
       "        vertical-align: middle;\n",
       "    }\n",
       "\n",
       "    .dataframe tbody tr th {\n",
       "        vertical-align: top;\n",
       "    }\n",
       "\n",
       "    .dataframe thead th {\n",
       "        text-align: right;\n",
       "    }\n",
       "</style>\n",
       "<table border=\"1\" class=\"dataframe\">\n",
       "  <thead>\n",
       "    <tr style=\"text-align: right;\">\n",
       "      <th></th>\n",
       "      <th>speech</th>\n",
       "      <th>speech_date</th>\n",
       "    </tr>\n",
       "  </thead>\n",
       "  <tbody>\n",
       "    <tr>\n",
       "      <th>0</th>\n",
       "      <td>Mr. Speaker-Elect, it is one of the happiest f...</td>\n",
       "      <td>1979-05-09</td>\n",
       "    </tr>\n",
       "    <tr>\n",
       "      <th>1</th>\n",
       "      <td>Mr. Speaker-Elect, it is my very great privile...</td>\n",
       "      <td>1979-05-09</td>\n",
       "    </tr>\n",
       "    <tr>\n",
       "      <th>2</th>\n",
       "      <td>On behalf of my right hon. and hon. Friends, M...</td>\n",
       "      <td>1979-05-09</td>\n",
       "    </tr>\n",
       "    <tr>\n",
       "      <th>3</th>\n",
       "      <td>I too, wish to congratulate you, Mr. Speaker-E...</td>\n",
       "      <td>1979-05-09</td>\n",
       "    </tr>\n",
       "    <tr>\n",
       "      <th>4</th>\n",
       "      <td>Sometimes, Mr. Speaker-Elect, the House alters...</td>\n",
       "      <td>1979-05-09</td>\n",
       "    </tr>\n",
       "  </tbody>\n",
       "</table>\n",
       "</div>"
      ],
      "text/plain": [
       "                                              speech speech_date\n",
       "0  Mr. Speaker-Elect, it is one of the happiest f...  1979-05-09\n",
       "1  Mr. Speaker-Elect, it is my very great privile...  1979-05-09\n",
       "2  On behalf of my right hon. and hon. Friends, M...  1979-05-09\n",
       "3  I too, wish to congratulate you, Mr. Speaker-E...  1979-05-09\n",
       "4  Sometimes, Mr. Speaker-Elect, the House alters...  1979-05-09"
      ]
     },
     "execution_count": 60,
     "metadata": {},
     "output_type": "execute_result"
    }
   ],
   "source": [
    "data.head()"
   ]
  },
  {
   "cell_type": "code",
   "execution_count": 215,
   "metadata": {},
   "outputs": [
    {
     "data": {
      "text/plain": [
       "(2286324, 2)"
      ]
     },
     "execution_count": 215,
     "metadata": {},
     "output_type": "execute_result"
    }
   ],
   "source": [
    "data.shape"
   ]
  },
  {
   "cell_type": "code",
   "execution_count": 216,
   "metadata": {},
   "outputs": [
    {
     "data": {
      "text/plain": [
       "speech         3\n",
       "speech_date    0\n",
       "dtype: int64"
      ]
     },
     "execution_count": 216,
     "metadata": {},
     "output_type": "execute_result"
    }
   ],
   "source": [
    "#Missing values\n",
    "data.isna().sum()"
   ]
  },
  {
   "cell_type": "code",
   "execution_count": null,
   "metadata": {},
   "outputs": [],
   "source": [
    "data.dropna()"
   ]
  },
  {
   "cell_type": "markdown",
   "metadata": {},
   "source": [
    "Anaphora (Level: Sentence and punctuation) \n",
    "Example for the first speech"
   ]
  },
  {
   "cell_type": "code",
   "execution_count": 209,
   "metadata": {},
   "outputs": [],
   "source": [
    "import spacy\n",
    "nlp = spacy.load(\"en\")\n",
    "sentences = list()\n",
    "\n",
    "tokens = nlp(data['speech'][0])\n",
    "\n",
    "for sent in tokens.sents:\n",
    "    sentences.append(sent.string.strip())"
   ]
  },
  {
   "cell_type": "code",
   "execution_count": 210,
   "metadata": {},
   "outputs": [],
   "source": [
    "first_sent = sentences[0] \n",
    "first_sent = first_sent.lower()\n",
    "first_sent = re.sub(r'[^\\w\\s]','',first_sent)\n",
    "last_sent = first_sent.split()\n",
    "anaphora = list()\n",
    "import re\n",
    "for sent in sentences[1:]:\n",
    "    sent = sent.lower()\n",
    "    sent = re.sub(r'[^\\w\\s]','',sent)\n",
    "    words = sent.split()\n",
    "    anaphora_record = list()\n",
    "    for i, j in zip(words, last_sent):\n",
    "        if i == j :\n",
    "            anaphora_record.append(i)\n",
    "        else:\n",
    "            break\n",
    "    if len(anaphora_record) > 0:\n",
    "        anaphora.append(anaphora_record)\n",
    "    last_sent = words;"
   ]
  },
  {
   "cell_type": "code",
   "execution_count": 211,
   "metadata": {},
   "outputs": [],
   "source": [
    "for sent in sentences:\n",
    "    part = re.split('[,:;]', sent)\n",
    "    first_part = part[0] \n",
    "    first_part = first_part.lower()\n",
    "    first_part = re.sub(r'[^\\w\\s]','',first_part)\n",
    "    words = first_part.split()\n",
    "    words = list(filter(('and').__ne__, words))\n",
    "    words = list(filter(('').__ne__, words))\n",
    "    last_sent = words\n",
    "    for i in part[1:]:\n",
    "        i  = i.lower()\n",
    "        i = re.sub(r'[^\\w\\s]','',i)\n",
    "        words = i.split()\n",
    "        words = list(filter(('and').__ne__, words))\n",
    "        words = list(filter(('').__ne__, words))\n",
    "        anaphora_record = list()\n",
    "        for i, j in zip(words, last_sent):\n",
    "            if i == j :\n",
    "                anaphora_record.append(i)\n",
    "            else:\n",
    "                break\n",
    "        if len(anaphora_record) > 0:\n",
    "            anaphora.append(anaphora_record)\n",
    "        last_sent = words;\n",
    "        \n",
    "        \n",
    "            \n",
    "        \n",
    "    \n",
    "    "
   ]
  },
  {
   "cell_type": "code",
   "execution_count": 212,
   "metadata": {},
   "outputs": [
    {
     "name": "stdout",
     "output_type": "stream",
     "text": [
      "[['it', 'is'], ['we', 'always'], ['you'], ['so', 'shall', 'they']]\n"
     ]
    }
   ],
   "source": [
    "print(anaphora)"
   ]
  },
  {
   "cell_type": "code",
   "execution_count": null,
   "metadata": {},
   "outputs": [],
   "source": []
  }
 ],
 "metadata": {
  "kernelspec": {
   "display_name": "Python 3",
   "language": "python",
   "name": "python3"
  },
  "language_info": {
   "codemirror_mode": {
    "name": "ipython",
    "version": 3
   },
   "file_extension": ".py",
   "mimetype": "text/x-python",
   "name": "python",
   "nbconvert_exporter": "python",
   "pygments_lexer": "ipython3",
   "version": "3.7.6"
  }
 },
 "nbformat": 4,
 "nbformat_minor": 4
}
