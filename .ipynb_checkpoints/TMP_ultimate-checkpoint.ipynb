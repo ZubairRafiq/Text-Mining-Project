{
 "cells": [
  {
   "cell_type": "code",
   "execution_count": 1,
   "metadata": {},
   "outputs": [],
   "source": [
    "import pandas as pd\n",
    "data = pd.read_csv('hans.csv', usecols=[\"speech\", \"speech_date\"], low_memory = False)"
   ]
  },
  {
   "cell_type": "code",
   "execution_count": 2,
   "metadata": {},
   "outputs": [
    {
     "data": {
      "text/html": [
       "<div>\n",
       "<style scoped>\n",
       "    .dataframe tbody tr th:only-of-type {\n",
       "        vertical-align: middle;\n",
       "    }\n",
       "\n",
       "    .dataframe tbody tr th {\n",
       "        vertical-align: top;\n",
       "    }\n",
       "\n",
       "    .dataframe thead th {\n",
       "        text-align: right;\n",
       "    }\n",
       "</style>\n",
       "<table border=\"1\" class=\"dataframe\">\n",
       "  <thead>\n",
       "    <tr style=\"text-align: right;\">\n",
       "      <th></th>\n",
       "      <th>speech</th>\n",
       "      <th>speech_date</th>\n",
       "    </tr>\n",
       "  </thead>\n",
       "  <tbody>\n",
       "    <tr>\n",
       "      <th>0</th>\n",
       "      <td>Mr. Speaker-Elect, it is one of the happiest f...</td>\n",
       "      <td>1979-05-09</td>\n",
       "    </tr>\n",
       "    <tr>\n",
       "      <th>1</th>\n",
       "      <td>Mr. Speaker-Elect, it is my very great privile...</td>\n",
       "      <td>1979-05-09</td>\n",
       "    </tr>\n",
       "    <tr>\n",
       "      <th>2</th>\n",
       "      <td>On behalf of my right hon. and hon. Friends, M...</td>\n",
       "      <td>1979-05-09</td>\n",
       "    </tr>\n",
       "    <tr>\n",
       "      <th>3</th>\n",
       "      <td>I too, wish to congratulate you, Mr. Speaker-E...</td>\n",
       "      <td>1979-05-09</td>\n",
       "    </tr>\n",
       "    <tr>\n",
       "      <th>4</th>\n",
       "      <td>Sometimes, Mr. Speaker-Elect, the House alters...</td>\n",
       "      <td>1979-05-09</td>\n",
       "    </tr>\n",
       "  </tbody>\n",
       "</table>\n",
       "</div>"
      ],
      "text/plain": [
       "                                              speech speech_date\n",
       "0  Mr. Speaker-Elect, it is one of the happiest f...  1979-05-09\n",
       "1  Mr. Speaker-Elect, it is my very great privile...  1979-05-09\n",
       "2  On behalf of my right hon. and hon. Friends, M...  1979-05-09\n",
       "3  I too, wish to congratulate you, Mr. Speaker-E...  1979-05-09\n",
       "4  Sometimes, Mr. Speaker-Elect, the House alters...  1979-05-09"
      ]
     },
     "execution_count": 2,
     "metadata": {},
     "output_type": "execute_result"
    }
   ],
   "source": [
    "data.head()"
   ]
  },
  {
   "cell_type": "code",
   "execution_count": 3,
   "metadata": {},
   "outputs": [
    {
     "data": {
      "text/plain": [
       "(2286324, 2)"
      ]
     },
     "execution_count": 3,
     "metadata": {},
     "output_type": "execute_result"
    }
   ],
   "source": [
    "data.shape"
   ]
  },
  {
   "cell_type": "code",
   "execution_count": 4,
   "metadata": {},
   "outputs": [
    {
     "data": {
      "text/plain": [
       "speech         3\n",
       "speech_date    0\n",
       "dtype: int64"
      ]
     },
     "execution_count": 4,
     "metadata": {},
     "output_type": "execute_result"
    }
   ],
   "source": [
    "#Missing values\n",
    "data.isna().sum()"
   ]
  },
  {
   "cell_type": "code",
   "execution_count": 5,
   "metadata": {},
   "outputs": [],
   "source": [
    "data.dropna(inplace=True)"
   ]
  },
  {
   "cell_type": "code",
   "execution_count": 6,
   "metadata": {},
   "outputs": [
    {
     "data": {
      "text/plain": [
       "(2286321, 2)"
      ]
     },
     "execution_count": 6,
     "metadata": {},
     "output_type": "execute_result"
    }
   ],
   "source": [
    "data.shape"
   ]
  },
  {
   "cell_type": "code",
   "execution_count": 7,
   "metadata": {},
   "outputs": [
    {
     "name": "stdout",
     "output_type": "stream",
     "text": [
      "Mr. Speaker-Elect, it is one of the happiest features of our procedures that, after the passions aroused by the hustings, our first parliamentary duty is one on which we are unanimous. It is a great pleasure and privilege to offer, on behalf of my right hon. and hon. Friends, our congratulations to you on your election as Speaker.\n",
      "My right hon. and learned Friend the Member for Hertfordshire, East Sir D. Walker-Smith) and the right hon. Member for Sunderland, North Mr. Willey), who have proposed and seconded the motion, have already said much that most of us would have wished to say to you individually, had we been able to be the author of such felicitous phrases. I did, however, note that my right hon. and learned Friend referred exclusively to \"new boys\"—a mistake that you did not make, Mr. Speaker-Elect. But, of course, being a lawyer, my right hon. and learned Friend would doubtless refer me to the Interpretation Act 1889 and point out that \"boy\" embraced \"girl\".\n",
      "From the time of your initial election, Mr. Speaker-Elect, we always knew that you would bring great distinction, humanity and warmth to your office, and you have. We always knew that your unfailing, patient humour would heal and not wound, and it was so. We always thought that you would be one of our great Speakers, and you are. For some 34 years, you have been steeped in the ways of the House, fulfilling many roles and therefore seeing our work from many different aspects.\n",
      "I well remember, Mr. Speaker-Elect, an occasion when you were in a less exalted position—that of a mere Front Bencher, a Minister of the Crown—when one of your replies to questions gave rise to the accusation that you were hedging. Any other Minister would have denied such an outrageous allegation swiftly, but not you, Sir. \"Of course I am hedging\", you said, \"and so would the hon. Member if he were in my position\".\n",
      "Mr. Speaker-Elect, some of us are now in that position, and we are grateful to you for that precedent, which, like so many others, may come in useful in the future.\n",
      "You have carried the reputation of our House, Mr. Speaker-Elect, to wider audiences both here and abroad. At home, \"Order, order\"—I cannot imitate that Welsh accent—is now a household phrase. You represented us at the bicentennial celebrations in the United States and presided over the conference of Commonwealth Speakers, where we all know that you were a great hit. You have been very welcoming and generous to visiting parliamentarians and guests, as well as to hon. Members of this House. On those occasions you usually speak, as you did today in the most moving tones, of this Mother of Parliaments. You do it, Mr. Speaker-Elect, not because it is the tradition, nor because it is customary—although tradition and customary important—nor even because it is expected of you, though it is, but because you have a deep and abiding belief that our parliamentary way is the best way to serve a free people, and that we must bequeath it as a heritage to those who come after us. We know, too, of your profound faith that righteousness exalteth a nation and the strength that that gives you in difficult days.\n",
      "While we have been away, a new crest has appeared in this House over the Archway. It is the crest of Airey Neave. We should like to thank you for having placed it there. The thought was so typical of you and so worthy of him, Mr. Speaker-Elect. We shall continue, Mr. Speaker-Elect, to be in need of your kindness, wisdom and integrity. As Sir Thomas Browne wrote centuries ago,\n",
      "All things began in order, so shall they end, and so shall they begin again\".\n",
      "In your new beginning, we salute you and wish you happiness and satisfaction in carrying out the duties of your historic office.\n",
      "\n"
     ]
    }
   ],
   "source": [
    "print(data['speech'][0])"
   ]
  },
  {
   "cell_type": "markdown",
   "metadata": {},
   "source": [
    "Anaphora (Level: Sentence and punctuation) \n",
    "Example for the first speech"
   ]
  },
  {
   "cell_type": "code",
   "execution_count": 8,
   "metadata": {},
   "outputs": [],
   "source": [
    "import spacy\n",
    "nlp = spacy.load(\"en\")\n",
    "sentences = list()\n",
    "\n",
    "tokens = nlp(data['speech'][0])\n",
    "\n",
    "for sent in tokens.sents:\n",
    "    sentences.append(sent.string.strip())"
   ]
  },
  {
   "cell_type": "code",
   "execution_count": 9,
   "metadata": {},
   "outputs": [],
   "source": [
    "import re\n",
    "first_sent = sentences[0] \n",
    "first_sent = first_sent.lower()\n",
    "first_sent = re.sub(r'[^\\w\\s]','',first_sent)\n",
    "last_sent = first_sent.split()\n",
    "anaphora = list()\n",
    "for sent in sentences[1:]:\n",
    "    sent = sent.lower()\n",
    "    sent = re.sub(r'[^\\w\\s]','',sent)\n",
    "    words = sent.split()\n",
    "    anaphora_record = list()\n",
    "    for i, j in zip(words, last_sent):\n",
    "        if i == j :\n",
    "            anaphora_record.append(i)\n",
    "        else:\n",
    "            break\n",
    "    if len(anaphora_record) > 0:\n",
    "        anaphora.append(anaphora_record)\n",
    "    last_sent = words;"
   ]
  },
  {
   "cell_type": "code",
   "execution_count": 10,
   "metadata": {},
   "outputs": [],
   "source": [
    "for sent in sentences:\n",
    "    part = re.split('[,:;]', sent)\n",
    "    first_part = part[0] \n",
    "    first_part = first_part.lower()\n",
    "    first_part = re.sub(r'[^\\w\\s]','',first_part)\n",
    "    words = first_part.split()\n",
    "    words = list(filter(('and').__ne__, words))\n",
    "    words = list(filter(('').__ne__, words))\n",
    "    last_part = words\n",
    "    for i in part[1:]:\n",
    "        i  = i.lower()\n",
    "        i = re.sub(r'[^\\w\\s]','',i)\n",
    "        words = i.split()\n",
    "        words = list(filter(('and').__ne__, words))\n",
    "        words = list(filter(('').__ne__, words))\n",
    "        anaphora_record = list()\n",
    "        for i, j in zip(words, last_part):\n",
    "            if i == j :\n",
    "                anaphora_record.append(i)\n",
    "            else:\n",
    "                break\n",
    "        if len(anaphora_record) > 0:\n",
    "            anaphora.append(anaphora_record)\n",
    "        last_part = words;\n",
    "        \n",
    "        \n",
    "            \n",
    "        \n",
    "    \n",
    "    "
   ]
  },
  {
   "cell_type": "code",
   "execution_count": 11,
   "metadata": {},
   "outputs": [
    {
     "name": "stdout",
     "output_type": "stream",
     "text": [
      "[['it', 'is'], ['we', 'always'], ['you'], ['so', 'shall', 'they']]\n"
     ]
    }
   ],
   "source": [
    "print(anaphora)"
   ]
  },
  {
   "cell_type": "code",
   "execution_count": 12,
   "metadata": {},
   "outputs": [
    {
     "name": "stdout",
     "output_type": "stream",
     "text": [
      "Number of anaphora candidates:  4\n"
     ]
    }
   ],
   "source": [
    "print(\"Number of anaphora candidates: \", len(anaphora))"
   ]
  },
  {
   "cell_type": "markdown",
   "metadata": {},
   "source": [
    "Epistrophe (Level: Sentence and punctuation) \n",
    "Example for the first speech"
   ]
  },
  {
   "cell_type": "code",
   "execution_count": 15,
   "metadata": {},
   "outputs": [],
   "source": [
    "import re\n",
    "first_sent = sentences[0] \n",
    "first_sent = first_sent.lower()\n",
    "first_sent = re.sub(r'[^\\w\\s]','',first_sent)\n",
    "last_sent = first_sent.split()\n",
    "epistrophe = list()\n",
    "for sent in sentences[1:]:\n",
    "    sent = sent.lower()\n",
    "    sent = re.sub(r'[^\\w\\s]','',sent)\n",
    "    words = sent.split()\n",
    "    epistrophe_record = list()\n",
    "    for i, j in zip(words[::-1], last_sent[::-1]):\n",
    "        if i == j :\n",
    "            epistrophe_record.append(i)\n",
    "        else:\n",
    "            break\n",
    "    if len(epistrophe_record) > 0:\n",
    "        epistrophe.append(epistrophe_record[::-1])\n",
    "    last_sent = words;"
   ]
  },
  {
   "cell_type": "code",
   "execution_count": 17,
   "metadata": {},
   "outputs": [],
   "source": [
    "for sent in sentences:\n",
    "    part = re.split('[,:;]', sent)\n",
    "    first_part = part[0] \n",
    "    first_part = first_part.lower()\n",
    "    first_part = re.sub(r'[^\\w\\s]','',first_part)\n",
    "    words = first_part.split()\n",
    "    words = list(filter(('and').__ne__, words))\n",
    "    words = list(filter(('').__ne__, words))\n",
    "    last_part = words\n",
    "    for i in part[1:]:\n",
    "        i  = i.lower()\n",
    "        i = re.sub(r'[^\\w\\s]','',i)\n",
    "        words = i.split()\n",
    "        words = list(filter(('and').__ne__, words))\n",
    "        words = list(filter(('').__ne__, words))\n",
    "        epistrophe_record = list()\n",
    "        for i, j in zip(words[::-1], last_part[::-1]):\n",
    "            if i == j :\n",
    "                epistrophe_record.append(i)\n",
    "            else:\n",
    "                break\n",
    "        if len(epistrophe_record) > 0:\n",
    "            epistrophe.append(epistrophe_record)\n",
    "        last_part = words;"
   ]
  },
  {
   "cell_type": "code",
   "execution_count": 18,
   "metadata": {},
   "outputs": [
    {
     "name": "stdout",
     "output_type": "stream",
     "text": [
      "[['hon'], ['right', 'hon']]\n"
     ]
    }
   ],
   "source": [
    "print(epistrophe)"
   ]
  },
  {
   "cell_type": "code",
   "execution_count": null,
   "metadata": {},
   "outputs": [],
   "source": []
  }
 ],
 "metadata": {
  "kernelspec": {
   "display_name": "Python 3",
   "language": "python",
   "name": "python3"
  },
  "language_info": {
   "codemirror_mode": {
    "name": "ipython",
    "version": 3
   },
   "file_extension": ".py",
   "mimetype": "text/x-python",
   "name": "python",
   "nbconvert_exporter": "python",
   "pygments_lexer": "ipython3",
   "version": "3.7.6"
  }
 },
 "nbformat": 4,
 "nbformat_minor": 4
}
